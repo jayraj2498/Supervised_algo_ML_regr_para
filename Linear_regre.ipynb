{
 "cells": [
  {
   "cell_type": "code",
   "execution_count": 45,
   "metadata": {},
   "outputs": [
    {
     "name": "stdout",
     "output_type": "stream",
     "text": [
      "   Weight  Height\n",
      "0      56     180\n",
      "1      73     211\n",
      "2      66     201\n",
      "3      62     190\n",
      "4      49     183\n"
     ]
    }
   ],
   "source": [
    "import pandas as pd\n",
    "import numpy as np\n",
    "\n",
    "# Set a random seed for reproducibility\n",
    "np.random.seed(42)\n",
    "\n",
    "# Generate more linear data\n",
    "weights = np.random.uniform(45, 75, 200)\n",
    "heights = 100 + 1.5 * weights + np.random.normal(0, 5, 200)\n",
    "\n",
    "df = pd.DataFrame({'Weight': weights, 'Height': heights})\n",
    "\n",
    "# Round the values to integers\n",
    "df['Weight'] = df['Weight'].astype(int)\n",
    "df['Height'] = df['Height'].astype(int)\n",
    "\n",
    "print(df.head())\n"
   ]
  },
  {
   "cell_type": "code",
   "execution_count": 46,
   "metadata": {},
   "outputs": [
    {
     "data": {
      "text/html": [
       "<div>\n",
       "<style scoped>\n",
       "    .dataframe tbody tr th:only-of-type {\n",
       "        vertical-align: middle;\n",
       "    }\n",
       "\n",
       "    .dataframe tbody tr th {\n",
       "        vertical-align: top;\n",
       "    }\n",
       "\n",
       "    .dataframe thead th {\n",
       "        text-align: right;\n",
       "    }\n",
       "</style>\n",
       "<table border=\"1\" class=\"dataframe\">\n",
       "  <thead>\n",
       "    <tr style=\"text-align: right;\">\n",
       "      <th></th>\n",
       "      <th>Weight</th>\n",
       "      <th>Height</th>\n",
       "    </tr>\n",
       "  </thead>\n",
       "  <tbody>\n",
       "    <tr>\n",
       "      <th>0</th>\n",
       "      <td>56</td>\n",
       "      <td>180</td>\n",
       "    </tr>\n",
       "    <tr>\n",
       "      <th>1</th>\n",
       "      <td>73</td>\n",
       "      <td>211</td>\n",
       "    </tr>\n",
       "    <tr>\n",
       "      <th>2</th>\n",
       "      <td>66</td>\n",
       "      <td>201</td>\n",
       "    </tr>\n",
       "    <tr>\n",
       "      <th>3</th>\n",
       "      <td>62</td>\n",
       "      <td>190</td>\n",
       "    </tr>\n",
       "    <tr>\n",
       "      <th>4</th>\n",
       "      <td>49</td>\n",
       "      <td>183</td>\n",
       "    </tr>\n",
       "    <tr>\n",
       "      <th>...</th>\n",
       "      <td>...</td>\n",
       "      <td>...</td>\n",
       "    </tr>\n",
       "    <tr>\n",
       "      <th>195</th>\n",
       "      <td>55</td>\n",
       "      <td>176</td>\n",
       "    </tr>\n",
       "    <tr>\n",
       "      <th>196</th>\n",
       "      <td>66</td>\n",
       "      <td>196</td>\n",
       "    </tr>\n",
       "    <tr>\n",
       "      <th>197</th>\n",
       "      <td>71</td>\n",
       "      <td>206</td>\n",
       "    </tr>\n",
       "    <tr>\n",
       "      <th>198</th>\n",
       "      <td>71</td>\n",
       "      <td>208</td>\n",
       "    </tr>\n",
       "    <tr>\n",
       "      <th>199</th>\n",
       "      <td>68</td>\n",
       "      <td>209</td>\n",
       "    </tr>\n",
       "  </tbody>\n",
       "</table>\n",
       "<p>200 rows × 2 columns</p>\n",
       "</div>"
      ],
      "text/plain": [
       "     Weight  Height\n",
       "0        56     180\n",
       "1        73     211\n",
       "2        66     201\n",
       "3        62     190\n",
       "4        49     183\n",
       "..      ...     ...\n",
       "195      55     176\n",
       "196      66     196\n",
       "197      71     206\n",
       "198      71     208\n",
       "199      68     209\n",
       "\n",
       "[200 rows x 2 columns]"
      ]
     },
     "execution_count": 46,
     "metadata": {},
     "output_type": "execute_result"
    }
   ],
   "source": [
    "df"
   ]
  },
  {
   "cell_type": "code",
   "execution_count": null,
   "metadata": {},
   "outputs": [],
   "source": []
  },
  {
   "cell_type": "code",
   "execution_count": 47,
   "metadata": {},
   "outputs": [
    {
     "data": {
      "text/plain": [
       "Text(0, 0.5, 'Height')"
      ]
     },
     "execution_count": 47,
     "metadata": {},
     "output_type": "execute_result"
    },
    {
     "data": {
      "image/png": "[encoded data removed]",
      "text/plain": [
       "<Figure size 640x480 with 1 Axes>"
      ]
     },
     "metadata": {},
     "output_type": "display_data"
    }
   ],
   "source": [
    "##scatter plot\n",
    "plt.scatter(df['Weight'],df['Height'])\n",
    "plt.xlabel(\"Weight\")\n",
    "plt.ylabel(\"Height\")"
   ]
  },
  {
   "cell_type": "code",
   "execution_count": 48,
   "metadata": {},
   "outputs": [
    {
     "data": {
      "text/html": [
       "<div>\n",
       "<style scoped>\n",
       "    .dataframe tbody tr th:only-of-type {\n",
       "        vertical-align: middle;\n",
       "    }\n",
       "\n",
       "    .dataframe tbody tr th {\n",
       "        vertical-align: top;\n",
       "    }\n",
       "\n",
       "    .dataframe thead th {\n",
       "        text-align: right;\n",
       "    }\n",
       "</style>\n",
       "<table border=\"1\" class=\"dataframe\">\n",
       "  <thead>\n",
       "    <tr style=\"text-align: right;\">\n",
       "      <th></th>\n",
       "      <th>Weight</th>\n",
       "      <th>Height</th>\n",
       "    </tr>\n",
       "  </thead>\n",
       "  <tbody>\n",
       "    <tr>\n",
       "      <th>Weight</th>\n",
       "      <td>1.000000</td>\n",
       "      <td>0.937891</td>\n",
       "    </tr>\n",
       "    <tr>\n",
       "      <th>Height</th>\n",
       "      <td>0.937891</td>\n",
       "      <td>1.000000</td>\n",
       "    </tr>\n",
       "  </tbody>\n",
       "</table>\n",
       "</div>"
      ],
      "text/plain": [
       "          Weight    Height\n",
       "Weight  1.000000  0.937891\n",
       "Height  0.937891  1.000000"
      ]
     },
     "execution_count": 48,
     "metadata": {},
     "output_type": "execute_result"
    }
   ],
   "source": [
    "df.corr()"
   ]
  },
  {
   "cell_type": "code",
   "execution_count": 49,
   "metadata": {},
   "outputs": [
    {
     "name": "stderr",
     "output_type": "stream",
     "text": [
      "c:\\Users\\Jayraj\\anaconda3\\Lib\\site-packages\\seaborn\\_oldcore.py:1119: FutureWarning: use_inf_as_na option is deprecated and will be removed in a future version. Convert inf values to NaN before operating instead.\n",
      "  with pd.option_context('mode.use_inf_as_na', True):\n",
      "c:\\Users\\Jayraj\\anaconda3\\Lib\\site-packages\\seaborn\\_oldcore.py:1119: FutureWarning: use_inf_as_na option is deprecated and will be removed in a future version. Convert inf values to NaN before operating instead.\n",
      "  with pd.option_context('mode.use_inf_as_na', True):\n"
     ]
    },
    {
     "data": {
      "text/plain": [
       "<seaborn.axisgrid.PairGrid at 0x2488f55ca10>"
      ]
     },
     "execution_count": 49,
     "metadata": {},
     "output_type": "execute_result"
    },
    {
     "data": {
      "image/png": "[encoded data removed]",
      "text/plain": [
       "<Figure size 500x500 with 6 Axes>"
      ]
     },
     "metadata": {},
     "output_type": "display_data"
    }
   ],
   "source": [
    "import seaborn as sns\n",
    "sns.pairplot(df)"
   ]
  },
  {
   "cell_type": "code",
   "execution_count": 50,
   "metadata": {},
   "outputs": [],
   "source": [
    "## Independent and dependent features\n",
    "X=df[['Weight']] ### independent features should be data frame or 2 dimesnionalarray\n",
    "y=df['Height'] ## this variiable can be in series or 1d arra"
   ]
  },
  {
   "cell_type": "code",
   "execution_count": 51,
   "metadata": {},
   "outputs": [
    {
     "data": {
      "text/plain": [
       "(200,)"
      ]
     },
     "execution_count": 51,
     "metadata": {},
     "output_type": "execute_result"
    }
   ],
   "source": [
    "X_series=df['Weight']\n",
    "np.array(X_series).shape"
   ]
  },
  {
   "cell_type": "code",
   "execution_count": 52,
   "metadata": {},
   "outputs": [
    {
     "data": {
      "text/plain": [
       "(200,)"
      ]
     },
     "execution_count": 52,
     "metadata": {},
     "output_type": "execute_result"
    }
   ],
   "source": [
    "np.array(y).shape"
   ]
  },
  {
   "cell_type": "code",
   "execution_count": 53,
   "metadata": {},
   "outputs": [],
   "source": [
    "\n",
    "from sklearn.model_selection import train_test_split\n",
    "X_train,X_test,y_train,y_test=train_test_split(X,y,test_size=0.25,random_state=42)"
   ]
  },
  {
   "cell_type": "code",
   "execution_count": 54,
   "metadata": {},
   "outputs": [],
   "source": [
    "from sklearn.preprocessing  import StandardScaler  \n",
    "scaler = StandardScaler()"
   ]
  },
  {
   "cell_type": "code",
   "execution_count": 55,
   "metadata": {},
   "outputs": [],
   "source": [
    "X_train=scaler.fit_transform(X_train)"
   ]
  },
  {
   "cell_type": "code",
   "execution_count": 56,
   "metadata": {},
   "outputs": [],
   "source": [
    "X_test= scaler.transform(X_test)"
   ]
  },
  {
   "cell_type": "code",
   "execution_count": 57,
   "metadata": {},
   "outputs": [
    {
     "data": {
      "text/plain": [
       "array([[ 0.55595114],\n",
       "       [-0.90905525],\n",
       "       [-1.13444085],\n",
       "       [ 1.11941514],\n",
       "       [-1.02174805],\n",
       "       [ 1.11941514],\n",
       "       [ 1.57018634],\n",
       "       [-1.58521204],\n",
       "       [ 0.10517995],\n",
       "       [ 0.10517995],\n",
       "       [ 0.33056554],\n",
       "       [-0.23289845],\n",
       "       [-1.02174805],\n",
       "       [ 1.11941514],\n",
       "       [ 1.11941514],\n",
       "       [ 0.21787275],\n",
       "       [-1.47251924],\n",
       "       [-0.79636245],\n",
       "       [-1.24713364],\n",
       "       [ 0.10517995],\n",
       "       [ 1.00672234],\n",
       "       [ 1.23210794],\n",
       "       [ 0.55595114],\n",
       "       [-0.00751285],\n",
       "       [ 1.34480074],\n",
       "       [ 1.11941514],\n",
       "       [-1.02174805],\n",
       "       [ 1.68287913],\n",
       "       [-1.58521204],\n",
       "       [-1.13444085],\n",
       "       [ 0.78133674],\n",
       "       [-1.35982644],\n",
       "       [-0.57097685],\n",
       "       [ 0.21787275],\n",
       "       [ 1.34480074],\n",
       "       [-0.57097685],\n",
       "       [ 0.44325834],\n",
       "       [-0.57097685],\n",
       "       [-1.35982644],\n",
       "       [-0.68366965],\n",
       "       [-0.68366965],\n",
       "       [-0.79636245],\n",
       "       [ 0.55595114],\n",
       "       [ 1.57018634],\n",
       "       [ 1.68287913],\n",
       "       [-0.45828405],\n",
       "       [ 0.78133674],\n",
       "       [-1.47251924],\n",
       "       [ 0.10517995],\n",
       "       [ 1.11941514],\n",
       "       [-1.13444085],\n",
       "       [-1.47251924],\n",
       "       [-0.00751285],\n",
       "       [-1.47251924],\n",
       "       [-1.35982644],\n",
       "       [-0.68366965],\n",
       "       [-1.58521204],\n",
       "       [ 1.11941514],\n",
       "       [ 1.45749354],\n",
       "       [ 0.44325834],\n",
       "       [-0.57097685],\n",
       "       [-0.34559125],\n",
       "       [ 1.34480074],\n",
       "       [-0.00751285],\n",
       "       [ 1.00672234],\n",
       "       [-1.24713364],\n",
       "       [-0.68366965],\n",
       "       [-0.79636245],\n",
       "       [ 0.21787275],\n",
       "       [ 0.33056554],\n",
       "       [-1.24713364],\n",
       "       [-0.90905525],\n",
       "       [-0.79636245],\n",
       "       [ 0.66864394],\n",
       "       [ 1.00672234],\n",
       "       [-0.45828405],\n",
       "       [-0.79636245],\n",
       "       [ 0.10517995],\n",
       "       [ 0.44325834],\n",
       "       [-0.12020565],\n",
       "       [-1.47251924],\n",
       "       [ 0.10517995],\n",
       "       [ 1.00672234],\n",
       "       [ 1.68287913],\n",
       "       [ 1.45749354],\n",
       "       [-0.45828405],\n",
       "       [ 0.33056554],\n",
       "       [-0.79636245],\n",
       "       [ 1.34480074],\n",
       "       [-0.45828405],\n",
       "       [-0.45828405],\n",
       "       [ 1.57018634],\n",
       "       [ 0.55595114],\n",
       "       [-1.02174805],\n",
       "       [ 1.23210794],\n",
       "       [ 1.57018634],\n",
       "       [ 1.23210794],\n",
       "       [-0.68366965],\n",
       "       [ 0.78133674],\n",
       "       [-1.47251924],\n",
       "       [ 0.66864394],\n",
       "       [-1.24713364],\n",
       "       [-0.00751285],\n",
       "       [ 0.44325834],\n",
       "       [-0.90905525],\n",
       "       [-0.57097685],\n",
       "       [-1.58521204],\n",
       "       [-0.90905525],\n",
       "       [ 0.10517995],\n",
       "       [-1.58521204],\n",
       "       [-1.02174805],\n",
       "       [ 1.57018634],\n",
       "       [-1.02174805],\n",
       "       [ 1.34480074],\n",
       "       [-0.45828405],\n",
       "       [ 0.33056554],\n",
       "       [ 0.89402954],\n",
       "       [ 1.68287913],\n",
       "       [ 0.78133674],\n",
       "       [-1.47251924],\n",
       "       [ 0.21787275],\n",
       "       [ 1.34480074],\n",
       "       [-1.13444085],\n",
       "       [-1.02174805],\n",
       "       [-0.34559125],\n",
       "       [ 1.45749354],\n",
       "       [ 0.10517995],\n",
       "       [-1.35982644],\n",
       "       [ 0.89402954],\n",
       "       [ 0.44325834],\n",
       "       [ 1.57018634],\n",
       "       [ 1.57018634],\n",
       "       [-0.68366965],\n",
       "       [-0.23289845],\n",
       "       [-0.79636245],\n",
       "       [ 0.10517995],\n",
       "       [-1.24713364],\n",
       "       [ 1.11941514],\n",
       "       [ 0.55595114],\n",
       "       [ 0.78133674],\n",
       "       [ 1.34480074],\n",
       "       [ 1.00672234],\n",
       "       [ 0.44325834],\n",
       "       [ 0.10517995],\n",
       "       [-1.02174805],\n",
       "       [-0.23289845],\n",
       "       [-1.02174805],\n",
       "       [ 0.89402954],\n",
       "       [-1.13444085],\n",
       "       [-0.57097685]])"
      ]
     },
     "execution_count": 57,
     "metadata": {},
     "output_type": "execute_result"
    }
   ],
   "source": [
    "X_train "
   ]
  },
  {
   "cell_type": "code",
   "execution_count": 59,
   "metadata": {},
   "outputs": [
    {
     "data": {
      "text/plain": [
       "array([[-0.00751285],\n",
       "       [-1.02174805],\n",
       "       [ 0.44325834],\n",
       "       [-0.79636245],\n",
       "       [-1.58521204],\n",
       "       [ 1.34480074],\n",
       "       [ 1.68287913],\n",
       "       [ 0.66864394],\n",
       "       [ 0.55595114],\n",
       "       [ 0.55595114],\n",
       "       [-1.13444085],\n",
       "       [ 1.45749354],\n",
       "       [ 1.23210794],\n",
       "       [-0.45828405],\n",
       "       [ 1.11941514],\n",
       "       [-0.34559125],\n",
       "       [-1.35982644],\n",
       "       [-1.13444085],\n",
       "       [-0.57097685],\n",
       "       [-1.35982644],\n",
       "       [-0.90905525],\n",
       "       [-0.57097685],\n",
       "       [-1.47251924],\n",
       "       [ 0.21787275],\n",
       "       [ 0.21787275],\n",
       "       [-0.34559125],\n",
       "       [-0.57097685],\n",
       "       [ 1.11941514],\n",
       "       [-0.23289845],\n",
       "       [-1.24713364],\n",
       "       [ 0.78133674],\n",
       "       [-0.23289845],\n",
       "       [ 1.45749354],\n",
       "       [ 0.78133674],\n",
       "       [ 1.45749354],\n",
       "       [ 1.45749354],\n",
       "       [-0.57097685],\n",
       "       [ 0.78133674],\n",
       "       [-1.35982644],\n",
       "       [ 1.00672234],\n",
       "       [-1.24713364],\n",
       "       [ 1.34480074],\n",
       "       [ 0.66864394],\n",
       "       [-0.12020565],\n",
       "       [-0.57097685],\n",
       "       [-0.45828405],\n",
       "       [-1.47251924],\n",
       "       [-0.68366965],\n",
       "       [-0.57097685],\n",
       "       [ 0.78133674]])"
      ]
     },
     "execution_count": 59,
     "metadata": {},
     "output_type": "execute_result"
    }
   ],
   "source": [
    "X_test"
   ]
  },
  {
   "cell_type": "code",
   "execution_count": 60,
   "metadata": {},
   "outputs": [],
   "source": [
    "## Apply Simple Linear Regression\n",
    "from sklearn.linear_model import LinearRegression \n",
    "regression=LinearRegression()"
   ]
  },
  {
   "cell_type": "code",
   "execution_count": 61,
   "metadata": {},
   "outputs": [],
   "source": [
    "from sklearn.model_selection import cross_val_score"
   ]
  },
  {
   "cell_type": "code",
   "execution_count": 63,
   "metadata": {},
   "outputs": [],
   "source": [
    "mae = cross_val_score(regression , X_train , y_train , scoring='neg_mean_squared_error' , cv=10) "
   ]
  },
  {
   "cell_type": "code",
   "execution_count": 64,
   "metadata": {},
   "outputs": [
    {
     "data": {
      "text/plain": [
       "-23.430435089739944"
      ]
     },
     "execution_count": 64,
     "metadata": {},
     "output_type": "execute_result"
    }
   ],
   "source": [
    "np.mean(mae)"
   ]
  },
  {
   "cell_type": "code",
   "execution_count": 65,
   "metadata": {},
   "outputs": [
    {
     "data": {
      "text/html": [
       "<style>#sk-container-id-3 {color: black;background-color: white;}#sk-container-id-3 pre{padding: 0;}#sk-container-id-3 div.sk-toggleable {background-color: white;}#sk-container-id-3 label.sk-toggleable__label {cursor: pointer;display: block;width: 100%;margin-bottom: 0;padding: 0.3em;box-sizing: border-box;text-align: center;}#sk-container-id-3 label.sk-toggleable__label-arrow:before {content: \"▸\";float: left;margin-right: 0.25em;color: #696969;}#sk-container-id-3 label.sk-toggleable__label-arrow:hover:before {color: black;}#sk-container-id-3 div.sk-estimator:hover label.sk-toggleable__label-arrow:before {color: black;}#sk-container-id-3 div.sk-toggleable__content {max-height: 0;max-width: 0;overflow: hidden;text-align: left;background-color: #f0f8ff;}#sk-container-id-3 div.sk-toggleable__content pre {margin: 0.2em;color: black;border-radius: 0.25em;background-color: #f0f8ff;}#sk-container-id-3 input.sk-toggleable__control:checked~div.sk-toggleable__content {max-height: 200px;max-width: 100%;overflow: auto;}#sk-container-id-3 input.sk-toggleable__control:checked~label.sk-toggleable__label-arrow:before {content: \"▾\";}#sk-container-id-3 div.sk-estimator input.sk-toggleable__control:checked~label.sk-toggleable__label {background-color: #d4ebff;}#sk-container-id-3 div.sk-label input.sk-toggleable__control:checked~label.sk-toggleable__label {background-color: #d4ebff;}#sk-container-id-3 input.sk-hidden--visually {border: 0;clip: rect(1px 1px 1px 1px);clip: rect(1px, 1px, 1px, 1px);height: 1px;margin: -1px;overflow: hidden;padding: 0;position: absolute;width: 1px;}#sk-container-id-3 div.sk-estimator {font-family: monospace;background-color: #f0f8ff;border: 1px dotted black;border-radius: 0.25em;box-sizing: border-box;margin-bottom: 0.5em;}#sk-container-id-3 div.sk-estimator:hover {background-color: #d4ebff;}#sk-container-id-3 div.sk-parallel-item::after {content: \"\";width: 100%;border-bottom: 1px solid gray;flex-grow: 1;}#sk-container-id-3 div.sk-label:hover label.sk-toggleable__label {background-color: #d4ebff;}#sk-container-id-3 div.sk-serial::before {content: \"\";position: absolute;border-left: 1px solid gray;box-sizing: border-box;top: 0;bottom: 0;left: 50%;z-index: 0;}#sk-container-id-3 div.sk-serial {display: flex;flex-direction: column;align-items: center;background-color: white;padding-right: 0.2em;padding-left: 0.2em;position: relative;}#sk-container-id-3 div.sk-item {position: relative;z-index: 1;}#sk-container-id-3 div.sk-parallel {display: flex;align-items: stretch;justify-content: center;background-color: white;position: relative;}#sk-container-id-3 div.sk-item::before, #sk-container-id-3 div.sk-parallel-item::before {content: \"\";position: absolute;border-left: 1px solid gray;box-sizing: border-box;top: 0;bottom: 0;left: 50%;z-index: -1;}#sk-container-id-3 div.sk-parallel-item {display: flex;flex-direction: column;z-index: 1;position: relative;background-color: white;}#sk-container-id-3 div.sk-parallel-item:first-child::after {align-self: flex-end;width: 50%;}#sk-container-id-3 div.sk-parallel-item:last-child::after {align-self: flex-start;width: 50%;}#sk-container-id-3 div.sk-parallel-item:only-child::after {width: 0;}#sk-container-id-3 div.sk-dashed-wrapped {border: 1px dashed gray;margin: 0 0.4em 0.5em 0.4em;box-sizing: border-box;padding-bottom: 0.4em;background-color: white;}#sk-container-id-3 div.sk-label label {font-family: monospace;font-weight: bold;display: inline-block;line-height: 1.2em;}#sk-container-id-3 div.sk-label-container {text-align: center;}#sk-container-id-3 div.sk-container {/* jupyter's `normalize.less` sets `[hidden] { display: none; }` but bootstrap.min.css set `[hidden] { display: none !important; }` so we also need the `!important` here to be able to override the default hidden behavior on the sphinx rendered scikit-learn.org. See: https://github.com/scikit-learn/scikit-learn/issues/21755 */display: inline-block !important;position: relative;}#sk-container-id-3 div.sk-text-repr-fallback {display: none;}</style><div id=\"sk-container-id-3\" class=\"sk-top-container\"><div class=\"sk-text-repr-fallback\"><pre>LinearRegression()</pre><b>In a Jupyter environment, please rerun this cell to show the HTML representation or trust the notebook. <br />On GitHub, the HTML representation is unable to render, please try loading this page with nbviewer.org.</b></div><div class=\"sk-container\" hidden><div class=\"sk-item\"><div class=\"sk-estimator sk-toggleable\"><input class=\"sk-toggleable__control sk-hidden--visually\" id=\"sk-estimator-id-3\" type=\"checkbox\" checked><label for=\"sk-estimator-id-3\" class=\"sk-toggleable__label sk-toggleable__label-arrow\">LinearRegression</label><div class=\"sk-toggleable__content\"><pre>LinearRegression()</pre></div></div></div></div></div>"
      ],
      "text/plain": [
       "LinearRegression()"
      ]
     },
     "execution_count": 65,
     "metadata": {},
     "output_type": "execute_result"
    }
   ],
   "source": [
    "# regression=LinearRegression()\n",
    "regression.fit(X_train,y_train)"
   ]
  },
  {
   "cell_type": "code",
   "execution_count": 66,
   "metadata": {},
   "outputs": [
    {
     "name": "stdout",
     "output_type": "stream",
     "text": [
      "Coefficient or slope: [13.37212755]\n",
      "Intercept: 189.4\n"
     ]
    }
   ],
   "source": [
    "print(\"Coefficient or slope:\",regression.coef_)\n",
    "print(\"Intercept:\",regression.intercept_)"
   ]
  },
  {
   "cell_type": "code",
   "execution_count": 67,
   "metadata": {},
   "outputs": [
    {
     "data": {
      "text/plain": [
       "[<matplotlib.lines.Line2D at 0x24890097790>]"
      ]
     },
     "execution_count": 67,
     "metadata": {},
     "output_type": "execute_result"
    },
    {
     "data": {
      "image/png": "[encoded data removed]",
      "text/plain": [
       "<Figure size 640x480 with 1 Axes>"
      ]
     },
     "metadata": {},
     "output_type": "display_data"
    }
   ],
   "source": [
    "## plot Training data plot best fit line\n",
    "plt.scatter(X_train,y_train)\n",
    "plt.plot(X_train,regression.predict(X_train))"
   ]
  },
  {
   "cell_type": "code",
   "execution_count": 68,
   "metadata": {},
   "outputs": [],
   "source": [
    "## Prediction for test data\n",
    "y_pred=regression.predict(X_test)"
   ]
  },
  {
   "cell_type": "code",
   "execution_count": 69,
   "metadata": {},
   "outputs": [],
   "source": [
    "## Performance Metrics\n",
    "from sklearn.metrics import mean_absolute_error,mean_squared_error"
   ]
  },
  {
   "cell_type": "code",
   "execution_count": 70,
   "metadata": {},
   "outputs": [
    {
     "name": "stdout",
     "output_type": "stream",
     "text": [
      "25.79641569048275\n",
      "4.162406728001357\n",
      "5.079017197301339\n"
     ]
    }
   ],
   "source": [
    "mse=mean_squared_error(y_test,y_pred)\n",
    "mae=mean_absolute_error(y_test,y_pred)\n",
    "rmse=np.sqrt(mse)\n",
    "print(mse)\n",
    "print(mae)\n",
    "print(rmse)"
   ]
  },
  {
   "cell_type": "code",
   "execution_count": 71,
   "metadata": {},
   "outputs": [],
   "source": [
    "from sklearn.metrics import r2_score"
   ]
  },
  {
   "cell_type": "code",
   "execution_count": 72,
   "metadata": {},
   "outputs": [
    {
     "data": {
      "text/plain": [
       "0.8525096528664973"
      ]
     },
     "execution_count": 72,
     "metadata": {},
     "output_type": "execute_result"
    }
   ],
   "source": [
    "r2_score(y_test , y_pred)   # too mauch low acccuracy "
   ]
  }
 ],
 "metadata": {
  "kernelspec": {
   "display_name": "Python 3",
   "language": "python",
   "name": "python3"
  },
  "language_info": {
   "codemirror_mode": {
    "name": "ipython",
    "version": 3
   },
   "file_extension": ".py",
   "mimetype": "text/x-python",
   "name": "python",
   "nbconvert_exporter": "python",
   "pygments_lexer": "ipython3",
   "version": "3.11.5"
  }
 },
 "nbformat": 4,
 "nbformat_minor": 2
}
